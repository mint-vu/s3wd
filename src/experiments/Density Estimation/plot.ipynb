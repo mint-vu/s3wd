{
 "cells": [
  {
   "cell_type": "code",
   "execution_count": 3,
   "id": "cbd2dcc6-aea2-41fe-a32e-95671c3fa091",
   "metadata": {
    "tags": []
   },
   "outputs": [
    {
     "ename": "ImportError",
     "evalue": "cannot import name 'realnvp' from 'utils.nf' (/home/tranh4/Projects/s3w/s3wd/src/utils/nf/__init__.py)",
     "output_type": "error",
     "traceback": [
      "\u001b[0;31m---------------------------------------------------------------------------\u001b[0m",
      "\u001b[0;31mImportError\u001b[0m                               Traceback (most recent call last)",
      "Cell \u001b[0;32mIn[3], line 22\u001b[0m\n\u001b[1;32m     19\u001b[0m \u001b[38;5;28;01mfrom\u001b[39;00m \u001b[38;5;21;01mdatasets\u001b[39;00m \u001b[38;5;28;01mimport\u001b[39;00m \u001b[38;5;241m*\u001b[39m\n\u001b[1;32m     20\u001b[0m sys\u001b[38;5;241m.\u001b[39mpath\u001b[38;5;241m.\u001b[39mappend(\u001b[38;5;124m\"\u001b[39m\u001b[38;5;124m../..\u001b[39m\u001b[38;5;124m\"\u001b[39m)\n\u001b[0;32m---> 22\u001b[0m \u001b[38;5;28;01mfrom\u001b[39;00m \u001b[38;5;21;01mutils\u001b[39;00m\u001b[38;5;21;01m.\u001b[39;00m\u001b[38;5;21;01mnf\u001b[39;00m \u001b[38;5;28;01mimport\u001b[39;00m realnvp\n\u001b[1;32m     23\u001b[0m \u001b[38;5;28;01mfrom\u001b[39;00m \u001b[38;5;21;01mutils\u001b[39;00m\u001b[38;5;21;01m.\u001b[39;00m\u001b[38;5;21;01mmisc\u001b[39;00m \u001b[38;5;28;01mimport\u001b[39;00m \u001b[38;5;241m*\u001b[39m\n\u001b[1;32m     24\u001b[0m \u001b[38;5;28;01mfrom\u001b[39;00m \u001b[38;5;21;01mutils\u001b[39;00m\u001b[38;5;21;01m.\u001b[39;00m\u001b[38;5;21;01mnf\u001b[39;00m\u001b[38;5;21;01m.\u001b[39;00m\u001b[38;5;21;01mexp_map\u001b[39;00m \u001b[38;5;28;01mimport\u001b[39;00m create_NF\n",
      "\u001b[0;31mImportError\u001b[0m: cannot import name 'realnvp' from 'utils.nf' (/home/tranh4/Projects/s3w/s3wd/src/utils/nf/__init__.py)"
     ]
    }
   ],
   "source": [
    "import sys\n",
    "import torch\n",
    "import ot\n",
    "import argparse\n",
    "import os\n",
    "\n",
    "import torch.nn.functional as F\n",
    "import torch.nn as nn\n",
    "import numpy as np\n",
    "import geopandas as gpd\n",
    "import matplotlib.pyplot as plt\n",
    "import pandas as pd\n",
    "import cartopy.crs as ccrs\n",
    "\n",
    "from tqdm.auto import trange\n",
    "from scipy.stats import gaussian_kde\n",
    "from mpl_toolkits.axes_grid1 import make_axes_locatable\n",
    "import matplotlib.colors as mcolors\n",
    "from datasets import *\n",
    "sys.path.append(\"../..\")\n",
    "\n",
    "from utils.nf import realnvp\n",
    "from utils.misc import *\n",
    "from utils.nf.exp_map import create_NF\n",
    "from utils.vmf import rand_vmf\n",
    "from methods.swd import swd\n",
    "\n",
    "device='cuda:2'"
   ]
  },
  {
   "cell_type": "code",
   "execution_count": 3,
   "id": "97a41d42-1c61-4555-bc2f-be8e099b68bc",
   "metadata": {
    "tags": []
   },
   "outputs": [
    {
     "name": "stdout",
     "output_type": "stream",
     "text": [
      "Current Working Directory: /home/tranh4/Projects/Official S3W/s3wd/src/experiments/Density Estimation\n"
     ]
    }
   ],
   "source": [
    "import os\n",
    "print(\"Current Working Directory:\", os.getcwd())\n"
   ]
  },
  {
   "cell_type": "code",
   "execution_count": null,
   "id": "6f55abe7-5f99-4fc0-87fc-7b50bf9c0873",
   "metadata": {},
   "outputs": [],
   "source": [
    "models = []\n",
    "# dataset = \"quakes_all\" \n",
    "dataset = \"flood\"\n",
    "# dataset = \"fire\"\n",
    "for i in range(5):\n",
    "    model = create_NF(3, 48, 100).to(device)\n",
    "    # model_file = f\"./new_weights/nf_density_{dataset}_ari50_lr0e-05_epochs20001_{i}.model\"\n",
    "    model_file = f\"./new_weights/nf_density_{dataset}_ri_s3w_lr0e-05_epochs20001_{i}.model\"\n",
    "    # model_file = \"./new_weights/nf_density_quakes_all_ssw_lr0e-1_epochs20000_0.model\"\n",
    "    if os.path.exists(model_file):\n",
    "        model.load_state_dict(torch.load(model_file, map_location=device))\n",
    "        model.eval()\n",
    "        models.append(model)\n",
    "    else:\n",
    "        print(f\"File {model_file} not found, skipping.\")\n",
    "\n",
    "eps = 1e-5\n",
    "\n",
    "config = {\n",
    "    \"training_size\": 0.7,\n",
    "    \"validation_size\": 0,\n",
    "    \"test_size\": 0.3,\n",
    "    \"name\": dataset\n",
    "}"
   ]
  },
  {
   "cell_type": "code",
   "execution_count": null,
   "id": "b2d0459c-4525-46b8-a764-2034840644f4",
   "metadata": {},
   "outputs": [],
   "source": [
    "# models = []\n",
    "# # dataset = \"quakes_all\" \n",
    "# # dataset = \"flood\"\n",
    "# dataset = \"fire\"\n",
    "\n",
    "# model = create_RealNVP(25,10).to(device)\n",
    "#     # model_file = f\"./weights/nf_density_{dataset}_ri_s3w_lr0e-001_{i}.model\"\n",
    "# model_file = f\"./weights/nf_density_stereo_{dataset}_stereo_0.model\"\n",
    "# if os.path.exists(model_file):\n",
    "#     model.load_state_dict(torch.load(model_file, map_location=device))\n",
    "#     model.eval()\n",
    "#     models.append(model)\n",
    "# else:\n",
    "#     print(f\"File {model_file} not found, skipping.\")\n",
    "\n",
    "# eps = 1e-5\n",
    "\n",
    "# config = {\n",
    "#     \"training_size\": 0.7,\n",
    "#     \"validation_size\": 0,\n",
    "#     \"test_size\": 0.3,\n",
    "#     \"name\": dataset\n",
    "# }"
   ]
  },
  {
   "cell_type": "code",
   "execution_count": null,
   "id": "f0a1bc4c-d177-4e8f-9433-1e38563a020d",
   "metadata": {},
   "outputs": [],
   "source": [
    "handler = EarthDataHandler(config, eps)\n",
    "train_loader, val_loader, test_loader = handler.get_dataloaders(15000, 15000)"
   ]
  },
  {
   "cell_type": "code",
   "execution_count": null,
   "id": "34c57aaf-1bb7-487c-9088-812ecac242bc",
   "metadata": {},
   "outputs": [],
   "source": [
    "test_densities = []\n",
    "kdes = []\n",
    "for model in models:\n",
    "    densities = []\n",
    "    kdes_=[]\n",
    "    for data,_ in test_loader:\n",
    "        data = data.to(device)\n",
    "        _, log_density = model(data)\n",
    "        densities.append(log_density.detach().cpu().numpy())\n",
    "    test_densities.append(np.concatenate(densities))\n",
    "\n",
    "\n",
    "for (data1, _), (data2, _) in zip(train_loader,train_loader):\n",
    "    lats,lons = xyz_to_latlon(data1)\n",
    "    lats_t, lons_t = xyz_to_latlon(data2)\n",
    "    kde=gaussian_kde(np.vstack((lons.detach().cpu().numpy(),lats.detach().cpu().numpy())), bw_method=0.1)\n",
    "    kde_densities_ = kde(np.vstack((lons_t.detach().cpu().numpy(), lats_t.detach().cpu().numpy())))\n",
    "    kdes.append(kde_densities_)\n",
    "\n",
    "\n",
    "test_densities = np.array(test_densities)\n",
    "kdes = np.array(kdes)"
   ]
  },
  {
   "cell_type": "code",
   "execution_count": null,
   "id": "287ee5b9-3f65-4983-8e74-6dc1adf609af",
   "metadata": {},
   "outputs": [],
   "source": [
    "kdes=(kdes - np.min(kdes)) / (np.max(kdes) - np.min(kdes))\n",
    "\n",
    "test_densities = np.array(test_densities)\n",
    "densities = np.exp(test_densities)\n",
    "densities = np.mean(densities, axis=0)\n",
    "densities=(densities - np.min(densities)) / (np.max(densities) - np.min(densities))"
   ]
  },
  {
   "cell_type": "code",
   "execution_count": null,
   "id": "c0ff0ab3-2b37-415a-8c42-38c3ac09da6a",
   "metadata": {},
   "outputs": [],
   "source": [
    "plt.close() \n",
    "fig, ax = plt.subplots(figsize=(40, 15), subplot_kw={'projection': ccrs.PlateCarree()})\n",
    "ax.set_aspect('auto', adjustable='datalim')\n",
    "\n",
    "ax.set_xlim(-180, 180)\n",
    "ax.set_ylim(-90, 90)\n",
    "\n",
    "vmin, vmax = 0, 1\n",
    "norm = mcolors.Normalize(vmin=vmin, vmax=vmax)\n",
    "for model in models:\n",
    "    for data, _ in test_loader:\n",
    "        xyz = data.numpy()\n",
    "        lat, lon = xyz_to_latlon(xyz)\n",
    "        sc = ax.scatter(lon, lat, c=densities, cmap='jet', norm=norm, s=100, transform=ccrs.PlateCarree())\n",
    "\n",
    "ax.coastlines()\n",
    "\n",
    "for spine in ax.spines.values():\n",
    "    spine.set_linewidth(5) \n",
    "    \n",
    "cbar = plt.colorbar(sc, orientation='vertical', pad=0.03, aspect=10)\n",
    "cbar.ax.tick_params(labelsize=30) \n",
    "\n",
    "plt.savefig('RI1_Flood.pdf', bbox_inches='tight', dpi=100)\n",
    "plt.show()"
   ]
  },
  {
   "cell_type": "code",
   "execution_count": null,
   "id": "01116811-c79e-4a7a-9282-6678ad4e2e8f",
   "metadata": {},
   "outputs": [],
   "source": [
    "fig, ax = plt.subplots(figsize=(40, 15), subplot_kw={'projection': ccrs.PlateCarree()})\n",
    "ax.set_aspect('auto', adjustable='datalim')\n",
    "\n",
    "ax.set_xlim(-180, 180)\n",
    "ax.set_ylim(-90, 90)\n",
    "vmin, vmax = 0, 1\n",
    "norm = mcolors.Normalize(vmin=vmin, vmax=vmax)\n",
    "for model in models:\n",
    "    for data, _ in test_loader:\n",
    "        xyz = data.numpy()\n",
    "        lat, lon = xyz_to_latlon(xyz)\n",
    "        sc = ax.scatter(lon, lat, c=kdes, cmap='jet', s=100, vmin=0, vmax=1, transform=ccrs.PlateCarree())\n",
    "\n",
    "ax.coastlines()\n",
    "\n",
    "for spine in ax.spines.values():\n",
    "    spine.set_linewidth(5) \n",
    "    \n",
    "cbar = plt.colorbar(sc, orientation='vertical', pad=0.03, aspect=10)#, extend='max')\n",
    "cbar.set_ticks(np.linspace(0, 1, num=6)) \n",
    "cbar.ax.set_yticklabels(['0', '0.2', '0.4', '0.6', '0.8', '1'], fontsize=50) \n",
    "plt.savefig('KDE_Fire.pdf', bbox_inches='tight', dpi=100)\n",
    "plt.show()"
   ]
  }
 ],
 "metadata": {
  "kernelspec": {
   "display_name": "Python 3 (ipykernel)",
   "language": "python",
   "name": "python3"
  },
  "language_info": {
   "codemirror_mode": {
    "name": "ipython",
    "version": 3
   },
   "file_extension": ".py",
   "mimetype": "text/x-python",
   "name": "python",
   "nbconvert_exporter": "python",
   "pygments_lexer": "ipython3",
   "version": "3.10.13"
  }
 },
 "nbformat": 4,
 "nbformat_minor": 5
}
