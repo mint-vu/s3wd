{
 "cells": [
  {
   "cell_type": "code",
   "execution_count": 1,
   "id": "0a6a4e2f-4f06-448c-b976-5ec4d96ba45e",
   "metadata": {
    "tags": []
   },
   "outputs": [],
   "source": [
    "import numpy as np \n"
   ]
  },
  {
   "cell_type": "code",
   "execution_count": 63,
   "id": "cfa22509-b3b9-456b-aa57-4d1df954958b",
   "metadata": {
    "tags": []
   },
   "outputs": [
    {
     "name": "stdout",
     "output_type": "stream",
     "text": [
      "[1. 1. 1. 1. 1. 1. 1. 1. 1. 1. 1. 1. 1. 1. 1. 1. 1. 1. 1. 1. 1. 1. 1. 1.\n",
      " 1. 1. 1. 1. 1. 1. 1. 1. 1. 1. 1. 1. 1. 1. 1. 1. 1. 1. 1. 1. 1. 1. 1. 1.\n",
      " 1. 1. 1. 1. 1. 1. 1. 1. 1. 1. 1. 1. 1. 1. 1. 1. 1. 1. 1. 1. 1. 1. 1. 1.\n",
      " 1. 1. 1. 1. 1. 1. 1. 1. 1. 1. 1. 1. 1. 1. 1. 1. 1. 1. 1. 1. 1. 1. 1. 1.\n",
      " 1. 1. 1. 1.]\n",
      "[1.65329614e-01 1.32801072e-01 1.11030110e-02 1.31430638e-01\n",
      " 1.04806466e-02 8.87165159e-01 1.72398526e-01 6.40646461e-02\n",
      " 8.19552283e-02 5.95513932e-04 1.36044164e-01 1.27100551e+00\n",
      " 1.42072344e-03 1.29109071e-02 4.60306263e-03 2.24305597e-03\n",
      " 5.32669759e-02 4.73392944e-02 1.65371827e-01 1.76804911e-02\n",
      " 6.47471947e-01 5.96178413e-03 2.86983211e-01 1.61373042e-01\n",
      " 3.84611796e-03 1.64602774e-02 9.92256861e-02 2.71990762e-02\n",
      " 1.71878145e-01 1.15074963e+00 5.43756686e-02 1.99594002e-04\n",
      " 4.79667913e-02 1.54272158e-01 2.47052073e-04 6.40690680e-01\n",
      " 1.81727625e-01 4.52942437e-01 2.43033056e-03 8.95124839e-02\n",
      " 1.18780500e-02 2.30298561e-01 1.08454482e+00 7.81033889e-02\n",
      " 6.24543295e-01 2.14286951e-02 2.84984986e-01 2.00203375e+00\n",
      " 4.81020755e-01 2.96142159e-01 4.40446723e-01 7.91703617e-03\n",
      " 1.35303091e+00 1.39226480e+00 1.67195669e-01 8.26935169e-02\n",
      " 1.14365895e-01 4.80885423e-04 4.18075428e-03 1.11886348e+00\n",
      " 1.03847929e+00 5.74446033e-02 5.03524075e-02 3.26699525e-02\n",
      " 2.73742069e-01 1.65595742e-02 4.92251369e-01 8.14815842e-01\n",
      " 1.15852077e-02 4.77423147e-03 8.40623680e-03 1.18108798e+00\n",
      " 1.44033264e-01 7.36081094e-02 7.42019630e-01 1.05994146e-01\n",
      " 2.65406604e-01 1.96186204e-01 2.90740448e-01 7.34089307e-03\n",
      " 1.34965724e+00 4.42066472e-01 5.50171547e-01 3.85560579e-02\n",
      " 7.05279621e-06 3.38478253e-01 5.96924414e-01 1.34892313e-03\n",
      " 1.21102673e+00 1.53250713e-01 4.41975586e-02 9.84036102e-01\n",
      " 2.46324768e-01 3.56351915e-04 2.15315666e-01 5.37066631e-02\n",
      " 2.72036962e-01 1.07205308e-01 5.41888493e-06 2.01053731e-01]\n"
     ]
    }
   ],
   "source": [
    "def h_phi(s):\n",
    "    # input: s n*d array \n",
    "    n,d=s.shape\n",
    "    angle_s_s0=np.arccos(-s[:,-1]).reshape(n,1)\n",
    "    s_1d=s[:,:-1]\n",
    "    s_1d_norm=np.sqrt(np.sum(s_1d**2,1)).reshape(n,1)\n",
    "    return angle_s_s0*s_1d/s_1d_norm\n",
    "\n",
    "def d_S(s1,s2):\n",
    "    # input: \n",
    "    return np.arccos(np.sum(s1*s2,1))\n",
    "\n",
    "\n",
    "# generate points in S^2 \n",
    "def generate_sphere_point(n,d):\n",
    "    s=np.random.normal(size=(n,d))\n",
    "    s_norm=np.sqrt(np.sum((s**2),1)).reshape(n,1)\n",
    "    return s/s_norm\n",
    "\n",
    "def d_h(s1,s2):\n",
    "    h1=h_phi(s1)\n",
    "    h2=h_phi(s2)\n",
    "    dist1=np.sqrt(np.sum((h1-h2)**2,1))\n",
    "    dist2=2*np.pi-dist1\n",
    "    return np.minimum(dist1,dist2)\n",
    "\n",
    "n=100\n",
    "d=3\n",
    "\n",
    "s1=generate_sphere_point(n,d)\n",
    "s2=generate_sphere_point(n,d)\n",
    "print((s2**2).sum(1))\n",
    "d_S_12=d_S(s1,s2)\n",
    "d_h_12=d_h(s1,s2)\n",
    "print(d_h_12-d_S_12)\n",
    "\n",
    "\n"
   ]
  },
  {
   "cell_type": "code",
   "execution_count": 62,
   "id": "8c79585c-5877-4821-9f99-43daff9181ae",
   "metadata": {
    "tags": []
   },
   "outputs": [],
   "source": [
    "h1=h_phi(s1)\n",
    "h2=h_phi(s2)\n",
    "dist1=np.sqrt(np.sum((h1-h2)**2,1))\n",
    "dist2=2*np.pi-dist1"
   ]
  },
  {
   "cell_type": "markdown",
   "id": "39bf1a47-0c35-442e-8b98-562b9df65fb7",
   "metadata": {},
   "source": [
    "s1**2"
   ]
  },
  {
   "cell_type": "code",
   "execution_count": 30,
   "id": "745ed2fa-b5bf-4b5a-adfb-d7419bd67d75",
   "metadata": {
    "tags": []
   },
   "outputs": [
    {
     "data": {
      "text/plain": [
       "array([1., 1., 1., 1., 1., 1., 1., 1., 1., 1.])"
      ]
     },
     "execution_count": 30,
     "metadata": {},
     "output_type": "execute_result"
    }
   ],
   "source": [
    "np.sum(s1**2,1)"
   ]
  },
  {
   "cell_type": "code",
   "execution_count": null,
   "id": "bd6e152e-8eca-4ce8-a648-923873514eaa",
   "metadata": {},
   "outputs": [],
   "source": []
  }
 ],
 "metadata": {
  "kernelspec": {
   "display_name": "Python 3 (ipykernel)",
   "language": "python",
   "name": "python3"
  },
  "language_info": {
   "codemirror_mode": {
    "name": "ipython",
    "version": 3
   },
   "file_extension": ".py",
   "mimetype": "text/x-python",
   "name": "python",
   "nbconvert_exporter": "python",
   "pygments_lexer": "ipython3",
   "version": "3.11.4"
  }
 },
 "nbformat": 4,
 "nbformat_minor": 5
}
