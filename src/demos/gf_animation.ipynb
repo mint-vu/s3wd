{
 "cells": [
  {
   "cell_type": "code",
   "execution_count": null,
   "id": "095c042a-3db6-48cb-9d13-1fabc2761a9c",
   "metadata": {
    "tags": []
   },
   "outputs": [],
   "source": [
    "import torch\n",
    "import numpy as np\n",
    "import torch.nn.functional as F\n",
    "import torch.nn as nn\n",
    "from torch.utils.data import DataLoader\n",
    "import sys\n",
    "\n",
    "from itertools import cycle\n",
    "from tqdm.auto import trange\n",
    "from tqdm.notebook import tqdm\n",
    "\n",
    "sys.path.append('../')\n",
    "from matplotlib import cm\n",
    "import matplotlib.pyplot as plt\n",
    "\n",
    "from utils import plot as plot_utils, s3w as s3w_utils, vmf as vmf_utils\n",
    "from utils.nf import normalizing_flows\n",
    "from methods import s3wd as s3w, sswd as ssw, swd as sw\n",
    "\n",
    "from scipy.stats import gaussian_kde\n",
    "\n",
    "device = torch.device('cuda:1' if torch.cuda.is_available() else 'cpu')"
   ]
  },
  {
   "cell_type": "code",
   "execution_count": null,
   "id": "c2f86fce",
   "metadata": {},
   "outputs": [],
   "source": [
    "def run_exp(X_target, X0, d_func, d_args, device, n_steps=2000, lr=0.1, batch_size=500):\n",
    "    \"\"\"\n",
    "    Performs gradient flow on particles using a specified distance function.\n",
    "\n",
    "    Args:\n",
    "    - X_target (torch.Tensor): Target distribution tensor.\n",
    "    - distance_fn (function): Distance function to be used.\n",
    "    - distance_fn_args (dict): Arguments required for the distance function.\n",
    "    - device (torch.device): Device to perform computations on.\n",
    "    - n_steps (int): Number of gradient steps.\n",
    "    - lr (float): Learning rate.\n",
    "    - batch_size (int): Batch size for processing.\n",
    "\n",
    "    Returns:\n",
    "    - List of tensors representing the state of particles at each step.\n",
    "    - List of loss values.\n",
    "    \"\"\"\n",
    "\n",
    "    loader = DataLoader(X_target, batch_size=batch_size, shuffle=True)\n",
    "    dataiter = cycle(loader)\n",
    "\n",
    "    X0 = X0.to(device)\n",
    "    X0.requires_grad_(True)\n",
    "\n",
    "    optimizer = torch.optim.Adam([X0], lr=lr)\n",
    "\n",
    "    L = [X0.clone()]\n",
    "    L_loss = []\n",
    "\n",
    "    pbar = trange(n_steps)\n",
    "\n",
    "    for k in pbar:\n",
    "        optimizer.zero_grad()\n",
    "        X_batch = next(dataiter).type(torch.float).to(device)\n",
    "\n",
    "        distance = d_func(X_batch, X0, **d_args)\n",
    "        distance.backward()\n",
    "        optimizer.step()\n",
    "\n",
    "        X0.data /= torch.norm(X0.data, dim=1, keepdim=True)\n",
    "\n",
    "        L_loss.append(distance.item())\n",
    "        L.append(X0.clone().detach())\n",
    "        pbar.set_postfix_str(f\"Loss = {distance.item():.3f}\")\n",
    "\n",
    "    return L, L_loss"
   ]
  },
  {
   "cell_type": "markdown",
   "id": "8a351895-3f86-4fcb-b0ef-2a5b8ebeaf5e",
   "metadata": {},
   "source": [
    "## Run Gradient Flows and Visualization"
   ]
  },
  {
   "cell_type": "code",
   "execution_count": null,
   "id": "80d7cacc",
   "metadata": {},
   "outputs": [],
   "source": [
    "X_target = []\n",
    "\n",
    "for mu_target in vmf_utils.fibonacci_sphere(12):\n",
    "    mu_target = mu_target / np.linalg.norm(mu_target)\n",
    "    kappa_target = 50\n",
    "    X_target.append(torch.tensor(vmf_utils.rand_vmf(mu_target, kappa=kappa_target, N=500), dtype=torch.float))\n",
    "\n",
    "X_target = torch.cat(X_target, dim=0)\n",
    "\n",
    "X0_base = torch.randn((6000, 3), device=device)\n",
    "X0_base = F.normalize(X0_base, p=2, dim=-1)"
   ]
  },
  {
   "cell_type": "code",
   "execution_count": null,
   "id": "031cf27b",
   "metadata": {},
   "outputs": [],
   "source": [
    "d_func = s3w.ri_s3wd \n",
    "d_args = {'p': 2, 'n_projs': 100, 'device': device, 'n_rotations': 50}\n",
    "L_ri, _ = run_exp(X_target, X0_base.clone(), d_func , d_args, device, n_steps=101, lr=.05, batch_size=6000)"
   ]
  },
  {
   "cell_type": "code",
   "execution_count": null,
   "id": "df6ececd",
   "metadata": {},
   "outputs": [],
   "source": [
    "d_func = s3w.ari_s3wd \n",
    "d_args = {'p': 2, 'n_projs': 100, 'device': device, 'n_rotations': 50}\n",
    "L_ari, _ = run_exp(X_target, X0_base.clone(), d_func , d_args, device, n_steps=101, lr=.05, batch_size=6000)"
   ]
  },
  {
   "cell_type": "code",
   "execution_count": null,
   "id": "252ef29a-a1c9-4ec5-9d3e-d0b107c7b7ab",
   "metadata": {
    "tags": []
   },
   "outputs": [],
   "source": [
    "d_func = s3w.s3wd \n",
    "d_args = {'p': 2, 'n_projs': 100, 'device': device}\n",
    "L_s3w, _ = run_exp(X_target, X0_base.clone(), d_func , d_args, device, n_steps=101, lr=.05, batch_size=6000)"
   ]
  },
  {
   "cell_type": "code",
   "execution_count": null,
   "id": "fbf1d32b",
   "metadata": {},
   "outputs": [],
   "source": [
    "from utils.plot import *\n",
    "\n",
    "def make_plot(pts, ax, title):\n",
    "    ax.scatter(pts[:, 0], pts[:, 1], pts[:, 2], s=3)\n",
    "    n_meridians=50\n",
    "    n_parallels = 100\n",
    "\n",
    "    u, v = np.mgrid[0:2*np.pi:n_meridians*1j, 0:np.pi:n_parallels*1j]\n",
    "    x, y, z = spherical_to_cartesian(np.column_stack((u.ravel(), v.ravel()))).T\n",
    "    x = x.reshape(u.shape)\n",
    "    y = y.reshape(u.shape)\n",
    "    z = z.reshape(u.shape)\n",
    "    ax.plot_surface(x, y, z, color='gray', alpha=0.05)\n",
    "    ax.plot_wireframe(x, y, z, color=\"black\", alpha=0.05, lw=1)\n",
    "\n",
    "    plt.axis('off')\n",
    "    ax.view_init(25, 25)\n",
    "    ax.grid(False)\n",
    "    ax.set_xticks([])\n",
    "    ax.set_yticks([])\n",
    "    ax.set_zticks([])\n",
    "\n",
    "    ax.set_title(title, y=.85)"
   ]
  },
  {
   "cell_type": "code",
   "execution_count": null,
   "id": "a92973c9",
   "metadata": {},
   "outputs": [],
   "source": [
    "for i in tqdm(range(len(L_ari))):\n",
    "\n",
    "    fig = plt.figure(figsize=(12, 6))\n",
    "\n",
    "    pts = L_s3w[i].cpu().detach().numpy()\n",
    "    ax = fig.add_subplot(131, projection='3d')\n",
    "    make_plot(pts, ax, '$S3W$')\n",
    "\n",
    "    pts = L_ri[i].cpu().detach().numpy()\n",
    "    ax = fig.add_subplot(132, projection='3d')\n",
    "    make_plot(pts, ax, '$RI$-$S3W$')\n",
    "\n",
    "    pts = L_ari[i].cpu().detach().numpy()\n",
    "    ax = fig.add_subplot(133, projection='3d')\n",
    "    make_plot(pts, ax, '$ARI$-$S3W$')\n",
    "\n",
    "    plt.subplots_adjust(wspace=-0.2)\n",
    "    plt.savefig(f'gif/gif_{i}.png', bbox_inches='tight', pad_inches=0)\n",
    "\n",
    "    plt.close(fig)"
   ]
  },
  {
   "cell_type": "markdown",
   "id": "71c4d1d8",
   "metadata": {},
   "source": [
    "## Create GIF"
   ]
  },
  {
   "cell_type": "code",
   "execution_count": null,
   "id": "70feac3a",
   "metadata": {},
   "outputs": [],
   "source": [
    "from glob import glob\n",
    "import imageio\n",
    "from tqdm import tqdm\n",
    "from PIL import Image\n",
    "import numpy as np\n",
    "import os\n",
    "file_list = sorted(glob('./gif/*.png'), key=lambda x: int(x.split('_')[-1].split('.')[0]))"
   ]
  },
  {
   "cell_type": "code",
   "execution_count": null,
   "id": "51b25527",
   "metadata": {},
   "outputs": [],
   "source": [
    "# Run cell to crop all images \n",
    "for fname in tqdm(file_list[:66]):\n",
    "    img = Image.open(fname)\n",
    "    w,h = img.size\n",
    "    img = img.crop((25, 50, w-25, h-85))\n",
    "    img.save(os.path.join('./gif_cropped', os.path.basename(fname)))"
   ]
  },
  {
   "cell_type": "code",
   "execution_count": null,
   "id": "4ae7b60b",
   "metadata": {},
   "outputs": [],
   "source": [
    "# Uncomment to use cropped images\n",
    "# file_list = sorted(glob('./gif_cropped/*.png'), key=lambda x: int(x.split('_')[-1].split('.')[0]))\n",
    "\n",
    "with imageio.get_writer(f\"./gif/gf.gif\", mode=\"I\", duration=0.5, loop=0) as writer:\n",
    "    for fname in tqdm(file_list[:66]):\n",
    "        writer.append_data(imageio.imread(fname))"
   ]
  },
  {
   "cell_type": "code",
   "execution_count": null,
   "id": "28166a43",
   "metadata": {},
   "outputs": [],
   "source": []
  }
 ],
 "metadata": {
  "kernelspec": {
   "display_name": "Python 3 (ipykernel)",
   "language": "python",
   "name": "python3"
  },
  "language_info": {
   "codemirror_mode": {
    "name": "ipython",
    "version": 3
   },
   "file_extension": ".py",
   "mimetype": "text/x-python",
   "name": "python",
   "nbconvert_exporter": "python",
   "pygments_lexer": "ipython3",
   "version": "3.10.13"
  }
 },
 "nbformat": 4,
 "nbformat_minor": 5
}
