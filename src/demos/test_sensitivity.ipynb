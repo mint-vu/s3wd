{
 "cells": [
  {
   "cell_type": "code",
   "execution_count": 22,
   "id": "28a87200-0efd-4c6a-b76d-4e13197cba3a",
   "metadata": {
    "tags": []
   },
   "outputs": [],
   "source": [
    "import torch\n",
    "import numpy as np\n",
    "from torch.utils.data import DataLoader\n",
    "import sys\n",
    "sys.path.append('../')\n",
    "from utils import vmf as vmf_utils\n",
    "from methods import s3wd as s3w, wd as wd\n",
    "\n",
    "device = torch.device('cuda:3' if torch.cuda.is_available() else 'cpu')\n",
    "random_seed = 1\n",
    "np.random.seed(random_seed)\n",
    "torch.manual_seed(random_seed)\n",
    "\n",
    "def vmf_at_north_pole(N, kappa, device='cpu'):\n",
    "    mu = torch.tensor([0.0, 0.0, 1.0], dtype=torch.float32, device=device)\n",
    "    return torch.tensor(vmf_utils.rand_vmf(mu.cpu(), kappa=kappa, N=N)).float()\n",
    "\n",
    "def vmf_at_south_pole(N, kappa, device='cpu'):\n",
    "    mu = torch.tensor([0.0, 0.0, -1.0], dtype=torch.float32, device=device)\n",
    "    return torch.tensor(vmf_utils.rand_vmf(mu.cpu(), kappa=kappa, N=N)).float()\n",
    "\n",
    "def test_sensitivity(d_func, d_args, epsilon_list, n_runs, device='cpu'):\n",
    "    kappa = 1000\n",
    "    N = 2048\n",
    "    X = vmf_at_north_pole(N, kappa, device)\n",
    "    Xt = vmf_at_south_pole(N, kappa, device)\n",
    "\n",
    "    results = {}\n",
    "    for epsilon in epsilon_list:\n",
    "        d_args['eps'] = epsilon\n",
    "        distances = []\n",
    "        for _ in range(n_runs):\n",
    "            w = d_func(X, Xt, **d_args)\n",
    "            distances.append(w.item())\n",
    "        mean_distance = np.mean(distances)\n",
    "        std_distance = np.std(distances)\n",
    "        results[epsilon] = (mean_distance, std_distance)\n",
    "\n",
    "    for epsilon, (mean_distance, std_distance) in results.items():\n",
    "        print(f\"Epsilon: {epsilon:.4f}, Mean Distance: {mean_distance:.4f}, Std Distance: {std_distance:.4f}\")\n",
    "\n",
    "\n",
    "eps = [1e-6,5e-6, 1e-5,5e-5,1e-4, 5e-4,1e-3, 5e-3,1e-2,5e-2]\n"
   ]
  },
  {
   "cell_type": "code",
   "execution_count": 31,
   "id": "ae8af889-e99e-48a6-a185-5a2134dd95ee",
   "metadata": {
    "tags": []
   },
   "outputs": [
    {
     "name": "stdout",
     "output_type": "stream",
     "text": [
      "Set 1: 128 projections\n"
     ]
    }
   ],
   "source": [
    "print(\"Set 1: 128 projections\")\n",
    "d_args_128 = {'p': 2, 'device': device, 'n_projs': 128}\n",
    "n_runs = 100"
   ]
  },
  {
   "cell_type": "code",
   "execution_count": 32,
   "id": "dd54afb2-41f9-41cc-8b73-df8251784cb5",
   "metadata": {
    "tags": []
   },
   "outputs": [
    {
     "name": "stdout",
     "output_type": "stream",
     "text": [
      "Epsilon: 0.0000, Mean Distance: 957.7993, Std Distance: 1.6724\n",
      "Epsilon: 0.0000, Mean Distance: 958.0859, Std Distance: 2.0987\n",
      "Epsilon: 0.0000, Mean Distance: 958.1065, Std Distance: 2.0977\n",
      "Epsilon: 0.0001, Mean Distance: 958.0544, Std Distance: 1.7864\n",
      "Epsilon: 0.0001, Mean Distance: 957.6334, Std Distance: 1.9493\n",
      "Epsilon: 0.0005, Mean Distance: 956.7641, Std Distance: 1.7809\n",
      "Epsilon: 0.0010, Mean Distance: 954.5304, Std Distance: 2.1129\n",
      "Epsilon: 0.0050, Mean Distance: 939.0492, Std Distance: 1.9431\n",
      "Epsilon: 0.0100, Mean Distance: 925.8701, Std Distance: 1.6517\n",
      "Epsilon: 0.0500, Mean Distance: 871.6674, Std Distance: 1.7789\n"
     ]
    }
   ],
   "source": [
    "d_func = s3w.s3wd\n",
    "s3w_results_128 = test_sensitivity(d_func, d_args_128, eps, n_runs, device)"
   ]
  },
  {
   "cell_type": "code",
   "execution_count": 33,
   "id": "4a5d358d-0420-4c0f-803e-e7e34fa4a4de",
   "metadata": {
    "tags": []
   },
   "outputs": [
    {
     "name": "stdout",
     "output_type": "stream",
     "text": [
      "Epsilon: 0.0000, Mean Distance: 1771.9628, Std Distance: 249.2399\n",
      "Epsilon: 0.0000, Mean Distance: 1858.7635, Std Distance: 226.5994\n",
      "Epsilon: 0.0000, Mean Distance: 1803.3944, Std Distance: 290.0595\n",
      "Epsilon: 0.0001, Mean Distance: 1829.8545, Std Distance: 259.4876\n",
      "Epsilon: 0.0001, Mean Distance: 1831.2919, Std Distance: 259.3316\n",
      "Epsilon: 0.0005, Mean Distance: 1838.7870, Std Distance: 287.2997\n",
      "Epsilon: 0.0010, Mean Distance: 1780.9043, Std Distance: 274.3009\n",
      "Epsilon: 0.0050, Mean Distance: 1870.2810, Std Distance: 251.9407\n",
      "Epsilon: 0.0100, Mean Distance: 1791.5991, Std Distance: 282.1853\n",
      "Epsilon: 0.0500, Mean Distance: 1844.3739, Std Distance: 249.5595\n"
     ]
    }
   ],
   "source": [
    "d_func = s3w.ri_s3wd\n",
    "d_args_128['n_rotations'] = 1\n",
    "ri_s3w_1_results_128 = test_sensitivity(d_func, d_args_128, eps, n_runs, device)"
   ]
  },
  {
   "cell_type": "code",
   "execution_count": 34,
   "id": "bd79309d-78f1-436a-86ad-0fa384a4ff0b",
   "metadata": {
    "tags": []
   },
   "outputs": [
    {
     "name": "stdout",
     "output_type": "stream",
     "text": [
      "Epsilon: 0.0000, Mean Distance: 1827.1313, Std Distance: 82.7943\n",
      "Epsilon: 0.0000, Mean Distance: 1824.0676, Std Distance: 92.0620\n",
      "Epsilon: 0.0000, Mean Distance: 1837.7344, Std Distance: 74.9027\n",
      "Epsilon: 0.0001, Mean Distance: 1828.4397, Std Distance: 75.1069\n",
      "Epsilon: 0.0001, Mean Distance: 1817.1224, Std Distance: 77.1129\n",
      "Epsilon: 0.0005, Mean Distance: 1824.8650, Std Distance: 66.5573\n",
      "Epsilon: 0.0010, Mean Distance: 1822.0892, Std Distance: 78.9655\n",
      "Epsilon: 0.0050, Mean Distance: 1823.6524, Std Distance: 76.0546\n",
      "Epsilon: 0.0100, Mean Distance: 1832.7319, Std Distance: 75.4223\n",
      "Epsilon: 0.0500, Mean Distance: 1813.2539, Std Distance: 81.1063\n"
     ]
    }
   ],
   "source": [
    "d_func = s3w.ri_s3wd\n",
    "d_args_128['n_rotations'] = 10\n",
    "ri_s3w_10_results_128 = test_sensitivity(d_func, d_args_128, eps, n_runs, device)"
   ]
  },
  {
   "cell_type": "code",
   "execution_count": 35,
   "id": "98e0a755-d32f-4192-a227-af0013cad708",
   "metadata": {
    "tags": []
   },
   "outputs": [
    {
     "name": "stdout",
     "output_type": "stream",
     "text": [
      "Epsilon: 0.0000, Mean Distance: 1866.4228, Std Distance: 31.7251\n",
      "Epsilon: 0.0000, Mean Distance: 1868.2872, Std Distance: 35.2663\n",
      "Epsilon: 0.0000, Mean Distance: 1864.0660, Std Distance: 35.6205\n",
      "Epsilon: 0.0001, Mean Distance: 1862.0703, Std Distance: 33.8414\n",
      "Epsilon: 0.0001, Mean Distance: 1862.2889, Std Distance: 34.4164\n",
      "Epsilon: 0.0005, Mean Distance: 1867.2440, Std Distance: 33.0247\n",
      "Epsilon: 0.0010, Mean Distance: 1866.4241, Std Distance: 32.1685\n",
      "Epsilon: 0.0050, Mean Distance: 1864.3097, Std Distance: 32.0242\n",
      "Epsilon: 0.0100, Mean Distance: 1863.0574, Std Distance: 34.9036\n",
      "Epsilon: 0.0500, Mean Distance: 1860.0517, Std Distance: 35.2010\n"
     ]
    }
   ],
   "source": [
    "d_func = s3w.ari_s3wd\n",
    "d_args_128['n_rotations'] = 30\n",
    "ari_s3w_30_results_128 = test_sensitivity(d_func, d_args_128, eps, n_runs, device)"
   ]
  },
  {
   "cell_type": "code",
   "execution_count": 36,
   "id": "37ee661a-8e02-4def-a745-060373c4dddc",
   "metadata": {
    "tags": []
   },
   "outputs": [
    {
     "name": "stdout",
     "output_type": "stream",
     "text": [
      "Set 2: 512 projections\n"
     ]
    }
   ],
   "source": [
    "print(\"Set 2: 512 projections\")\n",
    "d_args_512 = {'p': 2, 'device': device, 'n_projs': 512}"
   ]
  },
  {
   "cell_type": "code",
   "execution_count": 37,
   "id": "c9937f1e-6fce-4b39-bbde-754056c55fdc",
   "metadata": {
    "tags": []
   },
   "outputs": [
    {
     "name": "stdout",
     "output_type": "stream",
     "text": [
      "Epsilon: 0.0000, Mean Distance: 956.8493, Std Distance: 0.3606\n",
      "Epsilon: 0.0000, Mean Distance: 956.9313, Std Distance: 0.3472\n",
      "Epsilon: 0.0000, Mean Distance: 956.8701, Std Distance: 0.3873\n",
      "Epsilon: 0.0001, Mean Distance: 956.8674, Std Distance: 0.3550\n",
      "Epsilon: 0.0001, Mean Distance: 956.7620, Std Distance: 0.3746\n",
      "Epsilon: 0.0005, Mean Distance: 955.5398, Std Distance: 0.3477\n",
      "Epsilon: 0.0010, Mean Distance: 953.3782, Std Distance: 0.3911\n",
      "Epsilon: 0.0050, Mean Distance: 938.0304, Std Distance: 0.3898\n",
      "Epsilon: 0.0100, Mean Distance: 925.1433, Std Distance: 0.3116\n",
      "Epsilon: 0.0500, Mean Distance: 870.8593, Std Distance: 0.3439\n"
     ]
    }
   ],
   "source": [
    "d_func = s3w.s3wd\n",
    "s3w_results_512 = test_sensitivity(d_func, d_args_512, eps, n_runs, device)"
   ]
  },
  {
   "cell_type": "code",
   "execution_count": 38,
   "id": "c031599c-ecef-4b9e-9f57-3d791bf0941b",
   "metadata": {
    "tags": []
   },
   "outputs": [
    {
     "name": "stdout",
     "output_type": "stream",
     "text": [
      "Epsilon: 0.0000, Mean Distance: 1819.6581, Std Distance: 219.2019\n",
      "Epsilon: 0.0000, Mean Distance: 1817.0251, Std Distance: 211.0000\n",
      "Epsilon: 0.0000, Mean Distance: 1828.9268, Std Distance: 228.0387\n",
      "Epsilon: 0.0001, Mean Distance: 1785.1691, Std Distance: 245.0443\n",
      "Epsilon: 0.0001, Mean Distance: 1862.3419, Std Distance: 222.5437\n",
      "Epsilon: 0.0005, Mean Distance: 1814.1375, Std Distance: 233.9971\n",
      "Epsilon: 0.0010, Mean Distance: 1876.2494, Std Distance: 201.2994\n",
      "Epsilon: 0.0050, Mean Distance: 1831.1130, Std Distance: 219.0665\n",
      "Epsilon: 0.0100, Mean Distance: 1829.4150, Std Distance: 241.5372\n",
      "Epsilon: 0.0500, Mean Distance: 1811.2832, Std Distance: 232.5653\n"
     ]
    }
   ],
   "source": [
    "d_func = s3w.ri_s3wd\n",
    "d_args_512['n_rotations'] = 1\n",
    "ri_s3w_1_results_512 = test_sensitivity(d_func, d_args_512, eps, n_runs, device)"
   ]
  },
  {
   "cell_type": "code",
   "execution_count": 39,
   "id": "722c084a-eba4-42b2-943e-2515c3d44597",
   "metadata": {
    "tags": []
   },
   "outputs": [
    {
     "name": "stdout",
     "output_type": "stream",
     "text": [
      "Epsilon: 0.0000, Mean Distance: 1818.8249, Std Distance: 73.4450\n",
      "Epsilon: 0.0000, Mean Distance: 1818.2983, Std Distance: 69.1194\n",
      "Epsilon: 0.0000, Mean Distance: 1824.9081, Std Distance: 79.5574\n",
      "Epsilon: 0.0001, Mean Distance: 1829.2710, Std Distance: 67.0221\n",
      "Epsilon: 0.0001, Mean Distance: 1813.8406, Std Distance: 77.5415\n",
      "Epsilon: 0.0005, Mean Distance: 1825.4436, Std Distance: 78.7873\n",
      "Epsilon: 0.0010, Mean Distance: 1826.7527, Std Distance: 79.6352\n",
      "Epsilon: 0.0050, Mean Distance: 1816.8614, Std Distance: 78.7885\n",
      "Epsilon: 0.0100, Mean Distance: 1817.2168, Std Distance: 77.8463\n",
      "Epsilon: 0.0500, Mean Distance: 1819.8834, Std Distance: 77.0752\n"
     ]
    }
   ],
   "source": [
    "d_func = s3w.ri_s3wd\n",
    "d_args_512['n_rotations'] = 10\n",
    "ri_s3w_10_results_512 = test_sensitivity(d_func, d_args_512, eps, n_runs, device)"
   ]
  },
  {
   "cell_type": "code",
   "execution_count": 40,
   "id": "1aa970c3-a198-492d-8341-882b40e4629b",
   "metadata": {
    "tags": []
   },
   "outputs": [
    {
     "name": "stdout",
     "output_type": "stream",
     "text": [
      "Epsilon: 0.0000, Mean Distance: 1865.0331, Std Distance: 28.3183\n",
      "Epsilon: 0.0000, Mean Distance: 1868.2435, Std Distance: 31.2540\n",
      "Epsilon: 0.0000, Mean Distance: 1865.6800, Std Distance: 30.4766\n",
      "Epsilon: 0.0001, Mean Distance: 1868.1232, Std Distance: 32.6014\n",
      "Epsilon: 0.0001, Mean Distance: 1866.7863, Std Distance: 31.8164\n",
      "Epsilon: 0.0005, Mean Distance: 1862.7934, Std Distance: 29.9063\n",
      "Epsilon: 0.0010, Mean Distance: 1866.6707, Std Distance: 30.8366\n",
      "Epsilon: 0.0050, Mean Distance: 1864.5816, Std Distance: 35.8230\n",
      "Epsilon: 0.0100, Mean Distance: 1866.7260, Std Distance: 30.6681\n",
      "Epsilon: 0.0500, Mean Distance: 1869.8366, Std Distance: 28.5427\n"
     ]
    }
   ],
   "source": [
    "d_func = s3w.ari_s3wd\n",
    "d_args_512['n_rotations'] = 30\n",
    "ari_s3w_30_results_512 = test_sensitivity(d_func, d_args_512, eps, n_runs, device)"
   ]
  },
  {
   "cell_type": "code",
   "execution_count": null,
   "id": "e44c251f-f78b-4fe8-b9ed-a8943919e653",
   "metadata": {},
   "outputs": [],
   "source": []
  },
  {
   "cell_type": "code",
   "execution_count": null,
   "id": "20c0d07c-719a-4e03-aae5-46cc48cdc572",
   "metadata": {},
   "outputs": [],
   "source": []
  },
  {
   "cell_type": "code",
   "execution_count": null,
   "id": "ad83d1de-c961-4eaa-bb05-6150b8e6e494",
   "metadata": {},
   "outputs": [],
   "source": []
  }
 ],
 "metadata": {
  "kernelspec": {
   "display_name": "Python 3 (ipykernel)",
   "language": "python",
   "name": "python3"
  },
  "language_info": {
   "codemirror_mode": {
    "name": "ipython",
    "version": 3
   },
   "file_extension": ".py",
   "mimetype": "text/x-python",
   "name": "python",
   "nbconvert_exporter": "python",
   "pygments_lexer": "ipython3",
   "version": "3.10.13"
  }
 },
 "nbformat": 4,
 "nbformat_minor": 5
}
